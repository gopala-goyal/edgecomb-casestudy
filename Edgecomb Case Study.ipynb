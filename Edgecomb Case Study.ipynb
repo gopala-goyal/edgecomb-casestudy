{
 "cells": [
  {
   "cell_type": "code",
   "execution_count": 1,
   "id": "0fe51fa4",
   "metadata": {},
   "outputs": [],
   "source": [
    "import numpy as np\n",
    "import pandas as pd\n",
    "from sklearn.linear_model import LinearRegression"
   ]
  },
  {
   "cell_type": "markdown",
   "id": "359a4384",
   "metadata": {},
   "source": [
    "## Read Data"
   ]
  },
  {
   "cell_type": "code",
   "execution_count": 2,
   "id": "a0e82d61",
   "metadata": {},
   "outputs": [],
   "source": [
    "df_spencer = pd.read_excel('/Users/apple/Documents/Study/MMA 2022S/841 - Supply Chain/om-0549x.xlsx', sheet_name = 'Exhibit 4 Spencer')"
   ]
  },
  {
   "cell_type": "code",
   "execution_count": 3,
   "id": "cc4ca2a9",
   "metadata": {},
   "outputs": [],
   "source": [
    "df_william = pd.read_excel('/Users/apple/Documents/Study/MMA 2022S/841 - Supply Chain/om-0549x.xlsx', sheet_name = 'Exhbit 4 Williams')"
   ]
  },
  {
   "cell_type": "code",
   "execution_count": 4,
   "id": "02be4286",
   "metadata": {},
   "outputs": [
    {
     "name": "stdout",
     "output_type": "stream",
     "text": [
      "<class 'pandas.core.frame.DataFrame'>\n",
      "RangeIndex: 70 entries, 0 to 69\n",
      "Data columns (total 3 columns):\n",
      " #   Column  Non-Null Count  Dtype  \n",
      "---  ------  --------------  -----  \n",
      " 0   Miles   70 non-null     int64  \n",
      " 1   Stops   70 non-null     int64  \n",
      " 2   Hours   70 non-null     float64\n",
      "dtypes: float64(1), int64(2)\n",
      "memory usage: 1.8 KB\n"
     ]
    }
   ],
   "source": [
    "df_spencer.info()"
   ]
  },
  {
   "cell_type": "code",
   "execution_count": 5,
   "id": "167ce9f9",
   "metadata": {},
   "outputs": [
    {
     "name": "stdout",
     "output_type": "stream",
     "text": [
      "<class 'pandas.core.frame.DataFrame'>\n",
      "RangeIndex: 61 entries, 0 to 60\n",
      "Data columns (total 3 columns):\n",
      " #   Column  Non-Null Count  Dtype  \n",
      "---  ------  --------------  -----  \n",
      " 0   Miles   61 non-null     int64  \n",
      " 1   Stops   61 non-null     int64  \n",
      " 2   Hours   61 non-null     float64\n",
      "dtypes: float64(1), int64(2)\n",
      "memory usage: 1.6 KB\n"
     ]
    }
   ],
   "source": [
    "df_william.info()"
   ]
  },
  {
   "cell_type": "markdown",
   "id": "c991eade",
   "metadata": {},
   "source": [
    "## Linear Regression"
   ]
  },
  {
   "cell_type": "code",
   "execution_count": 6,
   "id": "934fc979",
   "metadata": {},
   "outputs": [
    {
     "data": {
      "text/plain": [
       "LinearRegression()"
      ]
     },
     "execution_count": 6,
     "metadata": {},
     "output_type": "execute_result"
    }
   ],
   "source": [
    "regressor_spencer = LinearRegression()\n",
    "regressor_spencer.fit(df_spencer.iloc[:,0:2], df_spencer.iloc[:,2:])"
   ]
  },
  {
   "cell_type": "code",
   "execution_count": 7,
   "id": "8473b633",
   "metadata": {},
   "outputs": [
    {
     "name": "stdout",
     "output_type": "stream",
     "text": [
      "[3.00367032]\n",
      "[[0.01801524 0.30845476]]\n"
     ]
    }
   ],
   "source": [
    "print(regressor_spencer.intercept_)\n",
    "print(regressor_spencer.coef_)"
   ]
  },
  {
   "cell_type": "code",
   "execution_count": 15,
   "id": "8399e332",
   "metadata": {},
   "outputs": [
    {
     "name": "stdout",
     "output_type": "stream",
     "text": [
      "coefficient of determination: 0.8430033515604876\n"
     ]
    }
   ],
   "source": [
    "r_sq = regressor_spencer.score(df_spencer.iloc[:,0:2], df_spencer.iloc[:,2:])\n",
    "print('coefficient of determination:', r_sq)"
   ]
  },
  {
   "cell_type": "code",
   "execution_count": 8,
   "id": "4ed140ee",
   "metadata": {},
   "outputs": [
    {
     "data": {
      "text/plain": [
       "LinearRegression()"
      ]
     },
     "execution_count": 8,
     "metadata": {},
     "output_type": "execute_result"
    }
   ],
   "source": [
    "regressor_william = LinearRegression()\n",
    "regressor_william.fit(df_william.iloc[:,0:2], df_william.iloc[:,2:])"
   ]
  },
  {
   "cell_type": "code",
   "execution_count": 9,
   "id": "e385a32e",
   "metadata": {},
   "outputs": [
    {
     "name": "stdout",
     "output_type": "stream",
     "text": [
      "[4.44783567]\n",
      "[[0.01551258 0.33864432]]\n"
     ]
    }
   ],
   "source": [
    "print(regressor_william.intercept_)\n",
    "print(regressor_william.coef_)"
   ]
  },
  {
   "cell_type": "code",
   "execution_count": 14,
   "id": "6466c687",
   "metadata": {},
   "outputs": [
    {
     "name": "stdout",
     "output_type": "stream",
     "text": [
      "coefficient of determination: 0.6628438912570516\n"
     ]
    }
   ],
   "source": [
    "r_sq = regressor_william.score(df_william.iloc[:,0:2], df_william.iloc[:,2:])\n",
    "print('coefficient of determination:', r_sq)"
   ]
  },
  {
   "cell_type": "markdown",
   "id": "f24da8a2",
   "metadata": {},
   "source": [
    "## Testing data"
   ]
  },
  {
   "cell_type": "code",
   "execution_count": 10,
   "id": "8eb527db",
   "metadata": {},
   "outputs": [],
   "source": [
    "X = pd.DataFrame({'Miles': [200, 250,300, 100], 'Stops': [2,3,4,2]})"
   ]
  },
  {
   "cell_type": "code",
   "execution_count": 11,
   "id": "3e2ad737",
   "metadata": {},
   "outputs": [
    {
     "data": {
      "text/html": [
       "<div>\n",
       "<style scoped>\n",
       "    .dataframe tbody tr th:only-of-type {\n",
       "        vertical-align: middle;\n",
       "    }\n",
       "\n",
       "    .dataframe tbody tr th {\n",
       "        vertical-align: top;\n",
       "    }\n",
       "\n",
       "    .dataframe thead th {\n",
       "        text-align: right;\n",
       "    }\n",
       "</style>\n",
       "<table border=\"1\" class=\"dataframe\">\n",
       "  <thead>\n",
       "    <tr style=\"text-align: right;\">\n",
       "      <th></th>\n",
       "      <th>Miles</th>\n",
       "      <th>Stops</th>\n",
       "    </tr>\n",
       "  </thead>\n",
       "  <tbody>\n",
       "    <tr>\n",
       "      <th>0</th>\n",
       "      <td>200</td>\n",
       "      <td>2</td>\n",
       "    </tr>\n",
       "    <tr>\n",
       "      <th>1</th>\n",
       "      <td>250</td>\n",
       "      <td>3</td>\n",
       "    </tr>\n",
       "    <tr>\n",
       "      <th>2</th>\n",
       "      <td>300</td>\n",
       "      <td>4</td>\n",
       "    </tr>\n",
       "    <tr>\n",
       "      <th>3</th>\n",
       "      <td>100</td>\n",
       "      <td>2</td>\n",
       "    </tr>\n",
       "  </tbody>\n",
       "</table>\n",
       "</div>"
      ],
      "text/plain": [
       "   Miles  Stops\n",
       "0    200      2\n",
       "1    250      3\n",
       "2    300      4\n",
       "3    100      2"
      ]
     },
     "execution_count": 11,
     "metadata": {},
     "output_type": "execute_result"
    }
   ],
   "source": [
    "X"
   ]
  },
  {
   "cell_type": "markdown",
   "id": "bec6174c",
   "metadata": {},
   "source": [
    "### Check what time will William or Spencer take for the testing dataset"
   ]
  },
  {
   "cell_type": "code",
   "execution_count": 12,
   "id": "0afb5012",
   "metadata": {},
   "outputs": [
    {
     "data": {
      "text/plain": [
       "array([[ 8.22764034],\n",
       "       [ 9.34191366],\n",
       "       [10.45618699],\n",
       "       [ 6.67638232]])"
      ]
     },
     "execution_count": 12,
     "metadata": {},
     "output_type": "execute_result"
    }
   ],
   "source": [
    "regressor_william.predict(X)"
   ]
  },
  {
   "cell_type": "code",
   "execution_count": 13,
   "id": "91d76285",
   "metadata": {},
   "outputs": [
    {
     "data": {
      "text/plain": [
       "array([[7.22362796],\n",
       "       [8.43284475],\n",
       "       [9.64206154],\n",
       "       [5.4221039 ]])"
      ]
     },
     "execution_count": 13,
     "metadata": {},
     "output_type": "execute_result"
    }
   ],
   "source": [
    "regressor_spencer.predict(X)"
   ]
  },
  {
   "cell_type": "markdown",
   "id": "0ed93731",
   "metadata": {},
   "source": [
    "> Now we see that for the same distance and stops, William takes more time than spencer"
   ]
  },
  {
   "cell_type": "markdown",
   "id": "707fe1b4",
   "metadata": {},
   "source": [
    "## Recommendations"
   ]
  },
  {
   "cell_type": "markdown",
   "id": "e4b39da4",
   "metadata": {},
   "source": [
    "> Change the compensation structure to take into consideration the number of miles travelled - regardles -It will remove the aspects that introduce variation in the processes "
   ]
  },
  {
   "cell_type": "code",
   "execution_count": 24,
   "id": "b25c6661",
   "metadata": {},
   "outputs": [],
   "source": [
    "import statsmodels.api as sm"
   ]
  },
  {
   "cell_type": "code",
   "execution_count": 17,
   "id": "e41d7281",
   "metadata": {},
   "outputs": [],
   "source": [
    "df_3 = pd.read_excel('/Users/apple/Documents/Study/MMA 2022S/841 - Supply Chain/om-0549x.xlsx', sheet_name = 'Sheet3')"
   ]
  },
  {
   "cell_type": "code",
   "execution_count": 19,
   "id": "f7372678",
   "metadata": {},
   "outputs": [
    {
     "data": {
      "text/html": [
       "<div>\n",
       "<style scoped>\n",
       "    .dataframe tbody tr th:only-of-type {\n",
       "        vertical-align: middle;\n",
       "    }\n",
       "\n",
       "    .dataframe tbody tr th {\n",
       "        vertical-align: top;\n",
       "    }\n",
       "\n",
       "    .dataframe thead th {\n",
       "        text-align: right;\n",
       "    }\n",
       "</style>\n",
       "<table border=\"1\" class=\"dataframe\">\n",
       "  <thead>\n",
       "    <tr style=\"text-align: right;\">\n",
       "      <th></th>\n",
       "      <th>Miles</th>\n",
       "      <th>Stops</th>\n",
       "      <th>Hours</th>\n",
       "    </tr>\n",
       "  </thead>\n",
       "  <tbody>\n",
       "    <tr>\n",
       "      <th>0</th>\n",
       "      <td>264</td>\n",
       "      <td>1</td>\n",
       "      <td>8.00</td>\n",
       "    </tr>\n",
       "    <tr>\n",
       "      <th>1</th>\n",
       "      <td>272</td>\n",
       "      <td>4</td>\n",
       "      <td>10.00</td>\n",
       "    </tr>\n",
       "    <tr>\n",
       "      <th>2</th>\n",
       "      <td>273</td>\n",
       "      <td>2</td>\n",
       "      <td>8.00</td>\n",
       "    </tr>\n",
       "    <tr>\n",
       "      <th>3</th>\n",
       "      <td>276</td>\n",
       "      <td>1</td>\n",
       "      <td>9.67</td>\n",
       "    </tr>\n",
       "    <tr>\n",
       "      <th>4</th>\n",
       "      <td>276</td>\n",
       "      <td>2</td>\n",
       "      <td>8.25</td>\n",
       "    </tr>\n",
       "    <tr>\n",
       "      <th>...</th>\n",
       "      <td>...</td>\n",
       "      <td>...</td>\n",
       "      <td>...</td>\n",
       "    </tr>\n",
       "    <tr>\n",
       "      <th>120</th>\n",
       "      <td>227</td>\n",
       "      <td>4</td>\n",
       "      <td>8.75</td>\n",
       "    </tr>\n",
       "    <tr>\n",
       "      <th>121</th>\n",
       "      <td>231</td>\n",
       "      <td>8</td>\n",
       "      <td>11.08</td>\n",
       "    </tr>\n",
       "    <tr>\n",
       "      <th>122</th>\n",
       "      <td>240</td>\n",
       "      <td>3</td>\n",
       "      <td>8.00</td>\n",
       "    </tr>\n",
       "    <tr>\n",
       "      <th>123</th>\n",
       "      <td>265</td>\n",
       "      <td>4</td>\n",
       "      <td>10.60</td>\n",
       "    </tr>\n",
       "    <tr>\n",
       "      <th>124</th>\n",
       "      <td>298</td>\n",
       "      <td>4</td>\n",
       "      <td>7.75</td>\n",
       "    </tr>\n",
       "  </tbody>\n",
       "</table>\n",
       "<p>125 rows × 3 columns</p>\n",
       "</div>"
      ],
      "text/plain": [
       "     Miles  Stops  Hours\n",
       "0      264      1   8.00\n",
       "1      272      4  10.00\n",
       "2      273      2   8.00\n",
       "3      276      1   9.67\n",
       "4      276      2   8.25\n",
       "..     ...    ...    ...\n",
       "120    227      4   8.75\n",
       "121    231      8  11.08\n",
       "122    240      3   8.00\n",
       "123    265      4  10.60\n",
       "124    298      4   7.75\n",
       "\n",
       "[125 rows x 3 columns]"
      ]
     },
     "execution_count": 19,
     "metadata": {},
     "output_type": "execute_result"
    }
   ],
   "source": [
    "df_3"
   ]
  },
  {
   "cell_type": "code",
   "execution_count": 28,
   "id": "ae57d8f2",
   "metadata": {},
   "outputs": [
    {
     "data": {
      "text/plain": [
       "LinearRegression()"
      ]
     },
     "execution_count": 28,
     "metadata": {},
     "output_type": "execute_result"
    }
   ],
   "source": [
    "regressor_comb = LinearRegression()\n",
    "regressor_comb.fit(df_3.iloc[:,0:2], df_3.iloc[:,2:])"
   ]
  },
  {
   "cell_type": "code",
   "execution_count": 27,
   "id": "6542c1c9",
   "metadata": {},
   "outputs": [
    {
     "data": {
      "text/html": [
       "<table class=\"simpletable\">\n",
       "<caption>OLS Regression Results</caption>\n",
       "<tr>\n",
       "  <th>Dep. Variable:</th>          <td>Hours</td>      <th>  R-squared:         </th> <td>   0.830</td>\n",
       "</tr>\n",
       "<tr>\n",
       "  <th>Model:</th>                   <td>OLS</td>       <th>  Adj. R-squared:    </th> <td>   0.827</td>\n",
       "</tr>\n",
       "<tr>\n",
       "  <th>Method:</th>             <td>Least Squares</td>  <th>  F-statistic:       </th> <td>   298.2</td>\n",
       "</tr>\n",
       "<tr>\n",
       "  <th>Date:</th>             <td>Sun, 31 Oct 2021</td> <th>  Prob (F-statistic):</th> <td>1.07e-47</td>\n",
       "</tr>\n",
       "<tr>\n",
       "  <th>Time:</th>                 <td>10:07:16</td>     <th>  Log-Likelihood:    </th> <td> -159.72</td>\n",
       "</tr>\n",
       "<tr>\n",
       "  <th>No. Observations:</th>      <td>   125</td>      <th>  AIC:               </th> <td>   325.4</td>\n",
       "</tr>\n",
       "<tr>\n",
       "  <th>Df Residuals:</th>          <td>   122</td>      <th>  BIC:               </th> <td>   333.9</td>\n",
       "</tr>\n",
       "<tr>\n",
       "  <th>Df Model:</th>              <td>     2</td>      <th>                     </th>     <td> </td>   \n",
       "</tr>\n",
       "<tr>\n",
       "  <th>Covariance Type:</th>      <td>nonrobust</td>    <th>                     </th>     <td> </td>   \n",
       "</tr>\n",
       "</table>\n",
       "<table class=\"simpletable\">\n",
       "<tr>\n",
       "    <td></td>       <th>coef</th>     <th>std err</th>      <th>t</th>      <th>P>|t|</th>  <th>[0.025</th>    <th>0.975]</th>  \n",
       "</tr>\n",
       "<tr>\n",
       "  <th>const</th> <td>    4.0136</td> <td>    0.250</td> <td>   16.029</td> <td> 0.000</td> <td>    3.518</td> <td>    4.509</td>\n",
       "</tr>\n",
       "<tr>\n",
       "  <th>Miles</th> <td>    0.0158</td> <td>    0.001</td> <td>   17.946</td> <td> 0.000</td> <td>    0.014</td> <td>    0.018</td>\n",
       "</tr>\n",
       "<tr>\n",
       "  <th>Stops</th> <td>    0.3101</td> <td>    0.036</td> <td>    8.569</td> <td> 0.000</td> <td>    0.238</td> <td>    0.382</td>\n",
       "</tr>\n",
       "</table>\n",
       "<table class=\"simpletable\">\n",
       "<tr>\n",
       "  <th>Omnibus:</th>       <td> 2.076</td> <th>  Durbin-Watson:     </th> <td>   2.070</td>\n",
       "</tr>\n",
       "<tr>\n",
       "  <th>Prob(Omnibus):</th> <td> 0.354</td> <th>  Jarque-Bera (JB):  </th> <td>   2.120</td>\n",
       "</tr>\n",
       "<tr>\n",
       "  <th>Skew:</th>          <td> 0.279</td> <th>  Prob(JB):          </th> <td>   0.346</td>\n",
       "</tr>\n",
       "<tr>\n",
       "  <th>Kurtosis:</th>      <td> 2.690</td> <th>  Cond. No.          </th> <td>    891.</td>\n",
       "</tr>\n",
       "</table><br/><br/>Notes:<br/>[1] Standard Errors assume that the covariance matrix of the errors is correctly specified."
      ],
      "text/plain": [
       "<class 'statsmodels.iolib.summary.Summary'>\n",
       "\"\"\"\n",
       "                            OLS Regression Results                            \n",
       "==============================================================================\n",
       "Dep. Variable:                  Hours   R-squared:                       0.830\n",
       "Model:                            OLS   Adj. R-squared:                  0.827\n",
       "Method:                 Least Squares   F-statistic:                     298.2\n",
       "Date:                Sun, 31 Oct 2021   Prob (F-statistic):           1.07e-47\n",
       "Time:                        10:07:16   Log-Likelihood:                -159.72\n",
       "No. Observations:                 125   AIC:                             325.4\n",
       "Df Residuals:                     122   BIC:                             333.9\n",
       "Df Model:                           2                                         \n",
       "Covariance Type:            nonrobust                                         \n",
       "==============================================================================\n",
       "                 coef    std err          t      P>|t|      [0.025      0.975]\n",
       "------------------------------------------------------------------------------\n",
       "const          4.0136      0.250     16.029      0.000       3.518       4.509\n",
       "Miles          0.0158      0.001     17.946      0.000       0.014       0.018\n",
       "Stops          0.3101      0.036      8.569      0.000       0.238       0.382\n",
       "==============================================================================\n",
       "Omnibus:                        2.076   Durbin-Watson:                   2.070\n",
       "Prob(Omnibus):                  0.354   Jarque-Bera (JB):                2.120\n",
       "Skew:                           0.279   Prob(JB):                        0.346\n",
       "Kurtosis:                       2.690   Cond. No.                         891.\n",
       "==============================================================================\n",
       "\n",
       "Notes:\n",
       "[1] Standard Errors assume that the covariance matrix of the errors is correctly specified.\n",
       "\"\"\""
      ]
     },
     "execution_count": 27,
     "metadata": {},
     "output_type": "execute_result"
    }
   ],
   "source": [
    "x = df_3.iloc[:,0:2]\n",
    "y = df_3.iloc[:,2:]\n",
    "  \n",
    "# adding the constant term\n",
    "x = sm.add_constant(x)\n",
    "  \n",
    "# performing the regression\n",
    "# and fitting the model\n",
    "result = sm.OLS(y, x).fit()\n",
    "  \n",
    "# printing the summary table\n",
    "result.summary()"
   ]
  },
  {
   "cell_type": "code",
   "execution_count": 29,
   "id": "8de8dafa",
   "metadata": {},
   "outputs": [
    {
     "name": "stdout",
     "output_type": "stream",
     "text": [
      "[4.01363474]\n",
      "[[0.01579591 0.3101221 ]]\n"
     ]
    }
   ],
   "source": [
    "print(regressor_comb.intercept_)\n",
    "print(regressor_comb.coef_)"
   ]
  },
  {
   "cell_type": "code",
   "execution_count": 31,
   "id": "9a0d9fbd",
   "metadata": {},
   "outputs": [],
   "source": [
    "exp = regressor_comb.predict(df_spencer.iloc[:,0:2])"
   ]
  },
  {
   "cell_type": "code",
   "execution_count": 34,
   "id": "aa40556c",
   "metadata": {},
   "outputs": [],
   "source": [
    "diff = df_spencer.iloc[:,2:] - exp"
   ]
  },
  {
   "cell_type": "code",
   "execution_count": 38,
   "id": "496fc19b",
   "metadata": {},
   "outputs": [
    {
     "data": {
      "text/plain": [
       "Hours   -0.390154\n",
       "dtype: float64"
      ]
     },
     "execution_count": 38,
     "metadata": {},
     "output_type": "execute_result"
    }
   ],
   "source": [
    "np.mean(diff)"
   ]
  },
  {
   "cell_type": "code",
   "execution_count": 41,
   "id": "7a04bd99",
   "metadata": {},
   "outputs": [],
   "source": [
    "exp_w = regressor_comb.predict(df_william.iloc[:,0:2])\n",
    "diff_w = df_william.iloc[:,2:] - exp_w"
   ]
  },
  {
   "cell_type": "code",
   "execution_count": 42,
   "id": "371aae26",
   "metadata": {},
   "outputs": [
    {
     "data": {
      "text/plain": [
       "Hours    0.504471\n",
       "dtype: float64"
      ]
     },
     "execution_count": 42,
     "metadata": {},
     "output_type": "execute_result"
    }
   ],
   "source": [
    "np.mean(diff_w)"
   ]
  },
  {
   "cell_type": "code",
   "execution_count": 44,
   "id": "f59c171b",
   "metadata": {},
   "outputs": [
    {
     "data": {
      "text/plain": [
       "Ttest_indResult(statistic=array([-5.41568039]), pvalue=array([2.88187402e-07]))"
      ]
     },
     "execution_count": 44,
     "metadata": {},
     "output_type": "execute_result"
    }
   ],
   "source": [
    "import scipy.stats as stats\n",
    "stats.ttest_ind(diff,diff_w)"
   ]
  }
 ],
 "metadata": {
  "kernelspec": {
   "display_name": "Python 3",
   "language": "python",
   "name": "python3"
  },
  "language_info": {
   "codemirror_mode": {
    "name": "ipython",
    "version": 3
   },
   "file_extension": ".py",
   "mimetype": "text/x-python",
   "name": "python",
   "nbconvert_exporter": "python",
   "pygments_lexer": "ipython3",
   "version": "3.7.7"
  }
 },
 "nbformat": 4,
 "nbformat_minor": 5
}
