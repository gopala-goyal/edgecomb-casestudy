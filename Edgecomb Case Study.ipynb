{
 "cells": [
  {
   "cell_type": "code",
   "execution_count": 1,
   "id": "0fe51fa4",
   "metadata": {},
   "outputs": [],
   "source": [
    "import numpy as np\n",
    "import pandas as pd\n",
    "from sklearn.linear_model import LinearRegression"
   ]
  },
  {
   "cell_type": "markdown",
   "id": "359a4384",
   "metadata": {},
   "source": [
    "## Read Data"
   ]
  },
  {
   "cell_type": "code",
   "execution_count": 34,
   "id": "a0e82d61",
   "metadata": {},
   "outputs": [],
   "source": [
    "df_spencer = pd.read_excel('/Users/apple/Documents/Study/MMA 2022S/841 - Supply Chain/om-0549x.xlsx', sheet_name = 'Exhibit 4 Spencer')"
   ]
  },
  {
   "cell_type": "code",
   "execution_count": 35,
   "id": "cc4ca2a9",
   "metadata": {},
   "outputs": [],
   "source": [
    "df_william = pd.read_excel('/Users/apple/Documents/Study/MMA 2022S/841 - Supply Chain/om-0549x.xlsx', sheet_name = 'Exhbit 4 Williams')"
   ]
  },
  {
   "cell_type": "code",
   "execution_count": 36,
   "id": "02be4286",
   "metadata": {},
   "outputs": [
    {
     "name": "stdout",
     "output_type": "stream",
     "text": [
      "<class 'pandas.core.frame.DataFrame'>\n",
      "RangeIndex: 70 entries, 0 to 69\n",
      "Data columns (total 3 columns):\n",
      " #   Column  Non-Null Count  Dtype  \n",
      "---  ------  --------------  -----  \n",
      " 0   Miles   70 non-null     int64  \n",
      " 1   Stops   70 non-null     int64  \n",
      " 2   Hours   70 non-null     float64\n",
      "dtypes: float64(1), int64(2)\n",
      "memory usage: 1.8 KB\n"
     ]
    }
   ],
   "source": [
    "df_spencer.info()"
   ]
  },
  {
   "cell_type": "code",
   "execution_count": 37,
   "id": "167ce9f9",
   "metadata": {},
   "outputs": [
    {
     "name": "stdout",
     "output_type": "stream",
     "text": [
      "<class 'pandas.core.frame.DataFrame'>\n",
      "RangeIndex: 61 entries, 0 to 60\n",
      "Data columns (total 3 columns):\n",
      " #   Column  Non-Null Count  Dtype  \n",
      "---  ------  --------------  -----  \n",
      " 0   Miles   61 non-null     int64  \n",
      " 1   Stops   61 non-null     int64  \n",
      " 2   Hours   61 non-null     float64\n",
      "dtypes: float64(1), int64(2)\n",
      "memory usage: 1.6 KB\n"
     ]
    }
   ],
   "source": [
    "df_william.info()"
   ]
  },
  {
   "cell_type": "markdown",
   "id": "c991eade",
   "metadata": {},
   "source": [
    "## Linear Regression"
   ]
  },
  {
   "cell_type": "code",
   "execution_count": 38,
   "id": "934fc979",
   "metadata": {},
   "outputs": [
    {
     "data": {
      "text/plain": [
       "LinearRegression()"
      ]
     },
     "execution_count": 38,
     "metadata": {},
     "output_type": "execute_result"
    }
   ],
   "source": [
    "regressor_spencer = LinearRegression()\n",
    "regressor_spencer.fit(df_spencer.iloc[:,0:2], df_spencer.iloc[:,2:])"
   ]
  },
  {
   "cell_type": "code",
   "execution_count": 39,
   "id": "8473b633",
   "metadata": {},
   "outputs": [
    {
     "name": "stdout",
     "output_type": "stream",
     "text": [
      "[3.00367032]\n",
      "[[0.01801524 0.30845476]]\n"
     ]
    }
   ],
   "source": [
    "print(regressor_spencer.intercept_)\n",
    "print(regressor_spencer.coef_)"
   ]
  },
  {
   "cell_type": "code",
   "execution_count": 42,
   "id": "4ed140ee",
   "metadata": {},
   "outputs": [
    {
     "data": {
      "text/plain": [
       "LinearRegression()"
      ]
     },
     "execution_count": 42,
     "metadata": {},
     "output_type": "execute_result"
    }
   ],
   "source": [
    "regressor_william = LinearRegression()\n",
    "regressor_william.fit(df_william.iloc[:,0:2], df_william.iloc[:,2:])"
   ]
  },
  {
   "cell_type": "code",
   "execution_count": 43,
   "id": "e385a32e",
   "metadata": {},
   "outputs": [
    {
     "name": "stdout",
     "output_type": "stream",
     "text": [
      "[4.44783567]\n",
      "[[0.01551258 0.33864432]]\n"
     ]
    }
   ],
   "source": [
    "print(regressor_william.intercept_)\n",
    "print(regressor_william.coef_)"
   ]
  },
  {
   "cell_type": "markdown",
   "id": "f24da8a2",
   "metadata": {},
   "source": [
    "## Testing data"
   ]
  },
  {
   "cell_type": "code",
   "execution_count": 28,
   "id": "8eb527db",
   "metadata": {},
   "outputs": [],
   "source": [
    "X = pd.DataFrame({'Miles': [200, 250,300, 100], 'Stops': [2,3,4,2]})"
   ]
  },
  {
   "cell_type": "code",
   "execution_count": 29,
   "id": "3e2ad737",
   "metadata": {},
   "outputs": [
    {
     "data": {
      "text/html": [
       "<div>\n",
       "<style scoped>\n",
       "    .dataframe tbody tr th:only-of-type {\n",
       "        vertical-align: middle;\n",
       "    }\n",
       "\n",
       "    .dataframe tbody tr th {\n",
       "        vertical-align: top;\n",
       "    }\n",
       "\n",
       "    .dataframe thead th {\n",
       "        text-align: right;\n",
       "    }\n",
       "</style>\n",
       "<table border=\"1\" class=\"dataframe\">\n",
       "  <thead>\n",
       "    <tr style=\"text-align: right;\">\n",
       "      <th></th>\n",
       "      <th>Miles</th>\n",
       "      <th>Stops</th>\n",
       "    </tr>\n",
       "  </thead>\n",
       "  <tbody>\n",
       "    <tr>\n",
       "      <th>0</th>\n",
       "      <td>200</td>\n",
       "      <td>2</td>\n",
       "    </tr>\n",
       "    <tr>\n",
       "      <th>1</th>\n",
       "      <td>250</td>\n",
       "      <td>3</td>\n",
       "    </tr>\n",
       "    <tr>\n",
       "      <th>2</th>\n",
       "      <td>300</td>\n",
       "      <td>4</td>\n",
       "    </tr>\n",
       "    <tr>\n",
       "      <th>3</th>\n",
       "      <td>100</td>\n",
       "      <td>2</td>\n",
       "    </tr>\n",
       "  </tbody>\n",
       "</table>\n",
       "</div>"
      ],
      "text/plain": [
       "   Miles  Stops\n",
       "0    200      2\n",
       "1    250      3\n",
       "2    300      4\n",
       "3    100      2"
      ]
     },
     "execution_count": 29,
     "metadata": {},
     "output_type": "execute_result"
    }
   ],
   "source": [
    "X"
   ]
  },
  {
   "cell_type": "markdown",
   "id": "bec6174c",
   "metadata": {},
   "source": [
    "### Check what time will William or Spencer take for the testing dataset"
   ]
  },
  {
   "cell_type": "code",
   "execution_count": 44,
   "id": "0afb5012",
   "metadata": {},
   "outputs": [
    {
     "data": {
      "text/plain": [
       "array([[ 8.22764034],\n",
       "       [ 9.34191366],\n",
       "       [10.45618699],\n",
       "       [ 6.67638232]])"
      ]
     },
     "execution_count": 44,
     "metadata": {},
     "output_type": "execute_result"
    }
   ],
   "source": [
    "regressor_william.predict(X)"
   ]
  },
  {
   "cell_type": "code",
   "execution_count": 45,
   "id": "91d76285",
   "metadata": {},
   "outputs": [
    {
     "data": {
      "text/plain": [
       "array([[7.22362796],\n",
       "       [8.43284475],\n",
       "       [9.64206154],\n",
       "       [5.4221039 ]])"
      ]
     },
     "execution_count": 45,
     "metadata": {},
     "output_type": "execute_result"
    }
   ],
   "source": [
    "regressor_spencer.predict(X)"
   ]
  },
  {
   "cell_type": "markdown",
   "id": "0ed93731",
   "metadata": {},
   "source": [
    "> Now we see that for the same distance and stops, William takes more time than spencer"
   ]
  },
  {
   "cell_type": "markdown",
   "id": "707fe1b4",
   "metadata": {},
   "source": [
    "## Recommendations"
   ]
  },
  {
   "cell_type": "markdown",
   "id": "e4b39da4",
   "metadata": {},
   "source": [
    "> Change the compensation structure to take into consideration the number of miles travelled - regardles -It will remove the aspects that introduce variation in the processes "
   ]
  }
 ],
 "metadata": {
  "kernelspec": {
   "display_name": "Python 3",
   "language": "python",
   "name": "python3"
  },
  "language_info": {
   "codemirror_mode": {
    "name": "ipython",
    "version": 3
   },
   "file_extension": ".py",
   "mimetype": "text/x-python",
   "name": "python",
   "nbconvert_exporter": "python",
   "pygments_lexer": "ipython3",
   "version": "3.7.7"
  }
 },
 "nbformat": 4,
 "nbformat_minor": 5
}
